{
  "nbformat": 4,
  "nbformat_minor": 0,
  "metadata": {
    "colab": {
      "provenance": []
    },
    "kernelspec": {
      "name": "python3",
      "display_name": "Python 3"
    },
    "language_info": {
      "name": "python"
    }
  },
  "cells": [
    {
      "cell_type": "markdown",
      "source": [
        "# **SIAM UQ24 MT5: PyDMD - Dynamic Mode Decomposition with Python**\n",
        "\n",
        "**Abstract:** PyDMD is a Python package designed for Dynamic Mode Decomposition (DMD), a data-driven method used for analyzing and extracting spatiotemporal coherent structures from time-varying datasets. The package implements many extensions to handle noisy data, impose structure on the learned operators, and provide uncertainty estimates. PyDMD has a comprehensive and user-friendly interface, making it a valuable tool for researchers, engineers, and data scientists working in various fields. After this mini tutorial, participants will be able to use all the main functionalities of the package, exploit Bagging-Optimized Dynamic Mode Decomposition (BOP-DMD) for uncertainty quantification, and develop new DMD classes."
      ],
      "metadata": {
        "id": "oE3Cx67q_nI9"
      }
    },
    {
      "cell_type": "markdown",
      "source": [
        "## **Part 0: Installing PyDMD**\n",
        "\n",
        "To ensure that you are working with the most recent version of PyDMD, we recommend that users install directly from the [Github source code](https://github.com/PyDMD/PyDMD).\n",
        "\n",
        "One can do so by running the following line of code:"
      ],
      "metadata": {
        "id": "1ZPi_AsoBVlS"
      }
    },
    {
      "cell_type": "code",
      "source": [
        "!pip install git+https://github.com/PyDMD/PyDMD.git"
      ],
      "metadata": {
        "id": "BPWmVdNV9ED_"
      },
      "execution_count": null,
      "outputs": []
    },
    {
      "cell_type": "markdown",
      "source": [
        "## **Part 1: Basic PyDMD Usage**\n",
        "\n",
        "We begin our tutorial by applying DMD to a simple synthetic data set.\n",
        "\n",
        "By the end of this section of the tutorial, users should be able to...\n",
        "- Build and fit basic `DMD` models.\n",
        "- Access and understand crucial `DMD` model attributes.\n",
        "- Visualize DMD results with the `plot_summary` function.\n",
        "\n",
        "Run the following block of code to import `numpy`, `matplotlib.pyplot`, and a handful of helper functions that we will be providing."
      ],
      "metadata": {
        "id": "taS_kodnBdvq"
      }
    },
    {
      "cell_type": "code",
      "source": [
        "# Be sure to install numpy and matplotlib if needed.\n",
        "# !pip install numpy\n",
        "# !pip install matplotlib\n",
        "\n",
        "import numpy as np\n",
        "import matplotlib.pyplot as plt\n",
        "\n",
        "def compute_error(actual, truth):\n",
        "    \"\"\"\n",
        "    Args:\n",
        "        actual = numpy.ndarray of computed values\n",
        "        truth = numpy.ndarray of expected values\n",
        "    Returns:\n",
        "        Relative error as a percentage\n",
        "    \"\"\"\n",
        "    return 100 * np.linalg.norm(truth - actual) / np.linalg.norm(truth)\n",
        "\n",
        "def plot_data(data, tgrid, xgrid, title):\n",
        "    \"\"\"\n",
        "    Plot 2-D data on a specified grid.\n",
        "\n",
        "    Args:\n",
        "        data = 2-D numpy.ndarray of data to plot\n",
        "        tgrid = temporal grid that the given data is defined on\n",
        "        xgrid = spatial grid that the given data is defined on\n",
        "        title = plot title\n",
        "    \"\"\"\n",
        "    plt.figure(figsize=(4, 2))\n",
        "    plt.title(title)\n",
        "    plt.pcolor(tgrid, xgrid, data.T)\n",
        "    plt.xlabel(\"Time (t)\")\n",
        "    plt.ylabel(\"Space (x)\")\n",
        "    plt.show()"
      ],
      "metadata": {
        "id": "rGliD9NuCn-u"
      },
      "execution_count": null,
      "outputs": []
    },
    {
      "cell_type": "markdown",
      "source": [
        "## **Part 1a: Make the toy data set**\n",
        "\n",
        "We start by examining data derived from the system $f(x, t) = f_1(x, t) + f_2(x, t)$, where<br>\n",
        "\n",
        "$f_1(x, t) = \\text{sech}(x + 3) e^{i 2.3 t}$<br>\n",
        "$f_2(x, t) = 2\\text{sech}(x) \\text{tanh}(x) e^{i 2.8 t}$.\n",
        "\n",
        "We specifically examine the domain $x \\in [-5, 5]$ across times $t \\in [0, 4\\pi]$.\n",
        "\n",
        "We also use $n = 65$ collocation points across $m = 129$ time steps (all evenly-spaced).\n",
        "\n",
        "Run the code below to build this particular data set."
      ],
      "metadata": {
        "id": "u_Wlqy--CMBx"
      }
    },
    {
      "cell_type": "code",
      "source": [
        "def f1(x, t):\n",
        "    \"\"\"\n",
        "    Spatiotemporal mode 1.\n",
        "    \"\"\"\n",
        "    return 1.0 / np.cosh(x + 3) * np.exp(1j * 2.3 * t)\n",
        "\n",
        "def f2(x, t):\n",
        "    \"\"\"\n",
        "    Spatiotemporal mode 2.\n",
        "    \"\"\"\n",
        "    return 2.0 / np.cosh(x) * np.tanh(x) * np.exp(1j * 2.8 * t)\n",
        "\n",
        "nx = 65 # number of grid points along space dimension\n",
        "nt = 129 # number of grid points along time dimension\n",
        "\n",
        "# Define the space and time grid for data collection.\n",
        "x = np.linspace(-5, 5, nx)\n",
        "t = np.linspace(0, 4 * np.pi, nt)\n",
        "xgrid, tgrid = np.meshgrid(x, t)\n",
        "dt = t[1] - t[0] # get the time-step\n",
        "\n",
        "# Data consists of our 2 spatiotemporal signals.\n",
        "X1 = f1(xgrid, tgrid).T\n",
        "X2 = f2(xgrid, tgrid).T\n",
        "X = X1 + X2\n",
        "print(\"Data successfully generated!\")\n",
        "print(f\"Data dimensions in (space, time): {X.shape}\")"
      ],
      "metadata": {
        "id": "E5-GiJ_BCLjF"
      },
      "execution_count": null,
      "outputs": []
    },
    {
      "cell_type": "markdown",
      "source": [
        "We now visualize the data with the following code.\n",
        "\n",
        "Notice how both the real and imaginary components of this data set contain rich dynamics."
      ],
      "metadata": {
        "id": "nXj1GipYPzQ4"
      }
    },
    {
      "cell_type": "code",
      "source": [
        "# Visualize the data.\n",
        "titles = [\"$f_1(x,t)$\", \"$f_2(x,t)$\", \"$f_1(x,t) + f_2(x,t)$\"]\n",
        "data = [X1, X2, X]\n",
        "\n",
        "fig = plt.figure(figsize=(14, 6), dpi=200)\n",
        "for i, (title, d) in enumerate(zip(titles, data)):\n",
        "    # Plot the real components of the data.\n",
        "    plt.subplot(2, 3, i + 1)\n",
        "    plt.title(title + \" (real components)\")\n",
        "    plt.pcolor(tgrid, xgrid, d.real.T)\n",
        "    plt.xlabel(\"Time (t)\")\n",
        "    plt.ylabel(\"Space (x)\")\n",
        "    plt.colorbar()\n",
        "    # Plot the imaginary components of the data.\n",
        "    plt.subplot(2, 3, i + 4)\n",
        "    plt.title(title + \" (imaginary components)\")\n",
        "    plt.pcolor(tgrid, xgrid, d.imag.T, cmap=\"inferno\")\n",
        "    plt.xlabel(\"Time (t)\")\n",
        "    plt.ylabel(\"Space (x)\")\n",
        "    plt.colorbar()\n",
        "\n",
        "plt.tight_layout()\n",
        "plt.show()"
      ],
      "metadata": {
        "id": "JU0FVXgeDglw"
      },
      "execution_count": null,
      "outputs": []
    },
    {
      "cell_type": "markdown",
      "source": [
        "To give users a better sense of what this data set looks like, we provide the following animation of the data.\n",
        "\n",
        "Feel free to skip this cell if you simply wish to proceed."
      ],
      "metadata": {
        "id": "c4trXlRbRiaD"
      }
    },
    {
      "cell_type": "code",
      "source": [
        "# Be sure to install moviepy if needed.\n",
        "# !pip install moviepy\n",
        "\n",
        "from moviepy.editor import *\n",
        "from moviepy.video.io.bindings import mplfig_to_npimage\n",
        "\n",
        "colors = [\"tab:blue\", \"tab:orange\", \"tab:red\"]\n",
        "titles = [\"$f_1(x,t)$\", \"$f_2(x,t)$\", \"$f_1(x,t) + f_2(x,t)$\"]\n",
        "\n",
        "def make_video(X, X1, X2, T, name):\n",
        "    fps = int(X.shape[1] / T)\n",
        "\n",
        "    def make_frame(ti):\n",
        "        time_index = int(fps * ti)\n",
        "        for i, (ax, mat) in enumerate(zip([ax1, ax2, ax3], [X1, X2, X])):\n",
        "            ax.clear()\n",
        "            plt.suptitle(f\"t = {np.round(t[time_index], decimals=5)}\")\n",
        "            ax.plot(x, mat[:, time_index].real, c=colors[i])\n",
        "            ax.set_ylim([-1.6, 1.6])\n",
        "            ax.set_title(f\"{titles[i]} (real)\")\n",
        "            ax.set_xlabel(\"x\")\n",
        "            ax.set_yticks([])\n",
        "        plt.tight_layout()\n",
        "        return mplfig_to_npimage(fig)\n",
        "\n",
        "    fig, (ax1, ax2, ax3) = plt.subplots(1, 3, figsize=(8, 3))\n",
        "    animation = VideoClip(make_frame, duration=T)\n",
        "    animation.write_videofile(name, fps=fps)\n",
        "\n",
        "# Make the mp4 file.\n",
        "make_video(X, X1, X2, T=10, name=\"data.mp4\")\n",
        "\n",
        "# Play the mp4 file.\n",
        "ipython_display(\"data.mp4\")"
      ],
      "metadata": {
        "id": "REoCA5oZRuI8"
      },
      "execution_count": null,
      "outputs": []
    },
    {
      "cell_type": "markdown",
      "source": [
        "## **Part 1b: Apply DMD**\n",
        "\n",
        "We now apply DMD to this data set. Recall that for data in the form\n",
        "\n",
        "$$\n",
        "\\mathbf{X} =\n",
        "\\begin{bmatrix}\n",
        "| & | & & | \\\\\n",
        "\\mathbf{x}(t_1) &\n",
        "\\mathbf{x}(t_2) &\n",
        "\\dots &\n",
        "\\mathbf{x}(t_m) \\\\\n",
        "| & | & & |\n",
        "\\end{bmatrix} \\in \\mathbb{R}^{n \\times m},\n",
        "$$\n",
        "\n",
        "where we have $m$ snapshots of $n$-dimensional data, the DMD algorithm seeks the following decomposition:\n",
        "\n",
        "$$\n",
        "\\mathbf{X}\n",
        "\\approx\n",
        "\\begin{bmatrix}\n",
        "    | & & | \\\\\n",
        "    \\boldsymbol{\\phi}_1 & \\dots & \\boldsymbol{\\phi}_r \\\\\n",
        "    | & & |\n",
        "\\end{bmatrix}\n",
        "\\begin{bmatrix}\n",
        "    b_1 \\\\ & \\ddots \\\\ && b_r\n",
        "\\end{bmatrix}\n",
        "\\begin{bmatrix}\n",
        "    e^{\\omega_1 t_1} & \\dots & e^{\\omega_1 t_m} \\\\\n",
        "    \\vdots & \\ddots & \\vdots \\\\\n",
        "    e^{\\omega_r t_1} & \\dots & e^{\\omega_r t_m}\n",
        "\\end{bmatrix}\n",
        "= \\mathbf{\\Phi} \\text{diag}(\\mathbf{b})\\mathbf{T}(\\boldsymbol{\\omega}),\n",
        "$$\n",
        "\n",
        "where the columns of $\\mathbf{\\Phi}$ give spatial modes, the entries of $\\boldsymbol{\\omega}$ give temporal frequencies, and the entries of $\\mathbf{b}$ give mode amplitudes."
      ],
      "metadata": {
        "id": "0F7PXww6GOfV"
      }
    },
    {
      "cell_type": "markdown",
      "source": [
        "We start by applying the [exact DMD](https://doi.org/10.3934/jcd.2014.1.391) algorithm to our data, which is implemented by the `DMD` module. [[source]](https://github.com/PyDMD/PyDMD/blob/7f4aa774b718c7ff57f2573b72420291e3bcd3a4/pydmd/dmd.py#L13)\n",
        "\n",
        "To do so, we simply build a `DMD` model and invoke the `fit` method, which requires the data snapshots $\\mathbf{X}$. We demonstrate this process below.\n",
        "\n",
        "Feel free to dismiss the condition number warning -- this process will work out fine despite the condition number.\n",
        "\n",
        "Also notice that we use `svd_rank=2` since our data consists of $r = 2$ spatiotemporal modes."
      ],
      "metadata": {
        "id": "VyQWcK5bqKu2"
      }
    },
    {
      "cell_type": "code",
      "execution_count": null,
      "metadata": {
        "id": "md2iLhh99Awr"
      },
      "outputs": [],
      "source": [
        "from pydmd import DMD\n",
        "\n",
        "dmd = DMD(svd_rank=2)\n",
        "dmd.fit(X)"
      ]
    },
    {
      "cell_type": "markdown",
      "source": [
        "### **Exercise 1a:**\n",
        "\n",
        "Print the `eigs` attribute of our fitted `DMD` model.\n",
        "\n",
        "These are what we call the \"discrete-time eigenvalues\", denoted as $\\lambda_i$.\n",
        "- Use the discrete-time eigenvalues to compute and print the \"continuous-time eigenvalues\" $\\omega_i = \\log(\\lambda_i) / \\Delta t$.\n",
        "- How do the continuous-time eigenvalues relate to the temporal parameters of our toy data set?"
      ],
      "metadata": {
        "id": "lefveAF6U7Qf"
      }
    },
    {
      "cell_type": "code",
      "source": [
        "# TODO:\n",
        "# Hint: The time-step is stored in the variable dt!\n",
        "print(???)\n",
        "print(???)"
      ],
      "metadata": {
        "id": "_7nStSd6DxCt"
      },
      "execution_count": null,
      "outputs": []
    },
    {
      "cell_type": "markdown",
      "source": [
        "### **Exercise 1b:**\n",
        "\n",
        "Print the shape of the `modes` and `dynamics` attributes of our fitted `DMD` model.\n",
        "\n",
        "Note that the `modes` attribute contains the entries of $\\mathbf{\\Phi}$, while the `dynamics` attribute contains the entries of $\\mathbf{T}(\\boldsymbol{\\omega})$.\n",
        "- How do these shapes relate to the `svd_rank` and the dimensions of the input data?\n",
        "- Plot the **real components** of the `modes` and `dynamics`. How do they relate to the components of our toy system?"
      ],
      "metadata": {
        "id": "Toj1a9taScQM"
      }
    },
    {
      "cell_type": "code",
      "source": [
        "# TODO:\n",
        "print(???)\n",
        "print(???)\n",
        "\n",
        "plt.figure(figsize=(8, 5))\n",
        "plt.subplot(2, 2, 1)\n",
        "# PLOT THE MODES HERE\n",
        "plt.plot(???, ???)\n",
        "plt.plot(???, ???)\n",
        "# ^^^^^^^^^^^^^^^^^^^\n",
        "plt.subplot(2, 2, 2)\n",
        "# PLOT THE DYNAMICS HERE\n",
        "plt.plot(???, ???)\n",
        "plt.plot(???, ???)\n",
        "# ^^^^^^^^^^^^^^^^^^^^^^\n",
        "plt.subplot(2, 2, 3)\n",
        "plt.plot(x, 1.0 / np.cosh(x + 3), c=\"k\", label=\"sech(x + 3)\")\n",
        "plt.plot(x, 2.0 / np.cosh(x) * np.tanh(x), c=\"r\", label=\"2sech(x)tanh(x)\")\n",
        "plt.xlabel(\"x\")\n",
        "plt.legend()\n",
        "plt.subplot(2, 2, 4)\n",
        "plt.plot(t, np.cos(2.3 * t), c=\"k\", label=\"cos(2.3t)\")\n",
        "plt.plot(t, np.cos(2.8 * t), c=\"r\", label=\"cos(2.8t)\")\n",
        "plt.xlabel(\"t\")\n",
        "plt.legend()\n",
        "plt.tight_layout()\n",
        "plt.show()"
      ],
      "metadata": {
        "id": "_z3XE0TM6itT"
      },
      "execution_count": null,
      "outputs": []
    },
    {
      "cell_type": "markdown",
      "source": [
        "### **Exercise 1c:**\n",
        "\n",
        "Print the `amplitudes` attribute of our fitted DMD model.\n",
        "\n",
        "Note that this attribute refers to the entries of the vector $\\mathbf{b}$.\n",
        "- Now print the modulus of the `amplitudes`.\n",
        "- Which spatiotemporal mode contributes more to the data?"
      ],
      "metadata": {
        "id": "TaghAc7dW_QM"
      }
    },
    {
      "cell_type": "code",
      "source": [
        "# TODO:\n",
        "print(???)\n",
        "print(???)"
      ],
      "metadata": {
        "id": "VBQlBqpUXKMT"
      },
      "execution_count": null,
      "outputs": []
    },
    {
      "cell_type": "markdown",
      "source": [
        "We have now examined all of the key components of the DMD representation. Nice!\n",
        "\n",
        "However, instead of grabbing all of these attributes individually, you can visualize all of these attributes at once with a simple call to the `plot_summary` function found in the `pydmd.plotter` suite. We demonstrate a simple call to this function below. Note that the function requires a fitted PyDMD model, along with any necessary or relevant plotting parameters. [[source]](https://github.com/PyDMD/PyDMD/blob/7f4aa774b718c7ff57f2573b72420291e3bcd3a4/pydmd/plotter.py#L537)\n",
        "\n",
        "Notice that on top of plotting our eigenvalues, modes, and dynamics, `plot_summary` also gives us the following:\n",
        "- The singular value spectrum of the data matrix $\\mathbf{X}$ is provided. From this, we can tell that this data requires a decomposition with $r = 2$.\n",
        "- Eigenvalues, modes, and dynamics are color-coordinated to indicate the pairings that make up each spatiotemporal mode.\n",
        "- Eigenvalue marker sizes reflect the corresponding amplitude of the spatiotemporal mode."
      ],
      "metadata": {
        "id": "mOrMzbpq-Inb"
      }
    },
    {
      "cell_type": "code",
      "source": [
        "from pydmd.plotter import plot_summary\n",
        "\n",
        "plot_summary(dmd, x=x, t=t)"
      ],
      "metadata": {
        "id": "e0LwHes_92Mo"
      },
      "execution_count": null,
      "outputs": []
    },
    {
      "cell_type": "markdown",
      "source": [
        "Fitted PyDMD models also possess a `reconstructed_data` attribute, which uses the computed DMD diagnostics in order to attempt to reconstruct the original data set. Below, we plot the real components of the reconstruction and print the reconstruction error."
      ],
      "metadata": {
        "id": "IsZxzwyPlqof"
      }
    },
    {
      "cell_type": "code",
      "source": [
        "plot_data(dmd.reconstructed_data.real, tgrid, xgrid, \"DMD Data Reconstruction\")\n",
        "print(f\"DMD reconstruction error: {compute_error(dmd.reconstructed_data, X)}%\")"
      ],
      "metadata": {
        "id": "o-sX7uxE95YH"
      },
      "execution_count": null,
      "outputs": []
    },
    {
      "cell_type": "markdown",
      "source": [
        "## **Bonus exercises:**\n",
        "- Reformat the `plot_summary` output. [[source]](https://github.com/PyDMD/PyDMD/blob/7f4aa774b718c7ff57f2573b72420291e3bcd3a4/pydmd/plotter.py#L537)\n",
        "    - Adjust the size and the resolution of the figure.\n",
        "    - Plot the singular values with log scaling on the y-axis.\n",
        "    - Interchange the axes on the continuous-time eigenvalue plot.\n",
        "    - Change the color of the eigenvalue markers from `\"r\"`, `\"b\"` to `\"m\"`, `\"c\"`.\n",
        "- Perform DMD on this data set with rank $r=1$. Are we still able to represent the data with DMD? Why or why not?\n",
        "- Perform DMD on this data set with rank $r=3$. Are we still able to represent the data with DMD? Why or why not?"
      ],
      "metadata": {
        "id": "A0MIgfNISRda"
      }
    },
    {
      "cell_type": "code",
      "source": [
        "# Bonus exercise workspace:"
      ],
      "metadata": {
        "id": "I1qBx8sjR0Sx"
      },
      "execution_count": null,
      "outputs": []
    },
    {
      "cell_type": "markdown",
      "source": [
        "## **Part 2: Data Preprocessors**\n",
        "\n",
        "We now make our data set harder to analyze by removing the imaginary components of our data.\n",
        "\n",
        "By the end of this section of the tutorial, users should be able to...\n",
        "- Import and use the data preprocessors found in `pydmd.preprocessing`.\n",
        "- Identify when and why time-delays might be necessary when applying DMD.\n",
        "\n",
        "First, notice what happens if we attempt to apply the exact same DMD pipeline as before using only the real components of our input data.\n",
        "\n",
        "Everything falls apart!"
      ],
      "metadata": {
        "id": "IyyMemYJB1pt"
      }
    },
    {
      "cell_type": "code",
      "source": [
        "dmd = DMD(svd_rank=2)\n",
        "dmd.fit(X.real)\n",
        "plot_summary(dmd, x=x, t=t)\n",
        "\n",
        "plot_data(dmd.reconstructed_data.real, tgrid, xgrid, \"DMD Data Reconstruction\")\n",
        "print(f\"DMD reconstruction error: {compute_error(dmd.reconstructed_data, X.real)}%\")"
      ],
      "metadata": {
        "id": "8NxUZJq79DV9"
      },
      "execution_count": null,
      "outputs": []
    },
    {
      "cell_type": "markdown",
      "source": [
        "What is going on here?\n",
        "\n",
        "After all, even without the imaginary components, our data still captures all of the major spatial and temporal behaviors of our system.\n",
        "\n",
        "To get to the bottom of this, consider the rank of our data matrix, using only real components."
      ],
      "metadata": {
        "id": "NJ6FDyUQvb4N"
      }
    },
    {
      "cell_type": "code",
      "source": [
        "print(f\"Data matrix rank with no delays: {np.linalg.matrix_rank(X.real)}\")"
      ],
      "metadata": {
        "id": "3WU2M3F_f7K4"
      },
      "execution_count": null,
      "outputs": []
    },
    {
      "cell_type": "markdown",
      "source": [
        "### **Exercise 2a:**\n",
        "\n",
        "Now, apply time-delays to the real data matrix with the `pseudo_hankel_matrix` tool found in `pydmd.utils`. [[source]](https://github.com/PyDMD/PyDMD/blob/7f4aa774b718c7ff57f2573b72420291e3bcd3a4/pydmd/utils.py#L271)\n",
        "\n",
        "Recall that using time-delays with $d$ delays involves converting a data matrix\n",
        "\n",
        "$$\n",
        "\\mathbf{X} =\n",
        "\\begin{bmatrix}\n",
        "\\mathbf{x}(t_1) &\n",
        "\\mathbf{x}(t_2) &\n",
        "\\dots &\n",
        "\\mathbf{x}(t_m)\n",
        "\\end{bmatrix} \\in \\mathbb{R}^{n \\times m}\n",
        "$$\n",
        "\n",
        "into a hankel matrix\n",
        "\n",
        "$$\n",
        "\\mathbf{X} =\n",
        "\\begin{bmatrix}\n",
        "\\mathbf{x}(t_1) & \\mathbf{x}(t_2) & \\dots & \\mathbf{x}(t_p) \\\\\n",
        "\\mathbf{x}(t_2) & \\mathbf{x}(t_3) & \\dots & \\mathbf{x}(t_{p+1}) \\\\\n",
        "\\vdots & \\vdots & \\ddots & \\vdots \\\\\n",
        "\\mathbf{x}(t_d) & \\mathbf{x}(t_{d+1}) & \\dots & \\mathbf{x}(t_m)\n",
        "\\end{bmatrix} \\in \\mathbb{R}^{nd \\times p}.\n",
        "$$\n",
        "\n",
        "This gives us a way of augmenting our data with additional variables or observables at the expense of some data snapshots.\n",
        "\n",
        "- What is the rank of the **real components** of the data after applying $d=2$ delays?\n",
        "- What about after applying $d = 3, 4,$ or $10$ delays?"
      ],
      "metadata": {
        "id": "nqbFWK6Kf8q9"
      }
    },
    {
      "cell_type": "code",
      "source": [
        "from pydmd.utils import pseudo_hankel_matrix\n",
        "\n",
        "# TODO:\n",
        "rank_d2 = ???\n",
        "rank_d3 = ???\n",
        "rank_d4 = ???\n",
        "rank_d10 = ???\n",
        "\n",
        "# This prints results -- no need to do anything here.\n",
        "print(f\"Data matrix rank after 2 delays: {rank_d2}\")\n",
        "print(f\"Data matrix rank after 3 delays: {rank_d3}\")\n",
        "print(f\"Data matrix rank after 4 delays: {rank_d4}\")\n",
        "print(f\"Data matrix rank after 10 delays: {rank_d10}\")"
      ],
      "metadata": {
        "id": "5Gv_wBgTgRQj"
      },
      "execution_count": null,
      "outputs": []
    },
    {
      "cell_type": "markdown",
      "source": [
        "Notice how by deploying some number of time-delays, we increase the rank of our data matrix, which notifies us that time-delays actually reveal some crucial latent variables hidden within our data. What this then tells us is that when dealing with only the real components of this data set, **we must use some amount of time-delays if we hope to get a good DMD representation.**\n",
        "\n",
        "Although we could just apply time-delays and then feed this data to a `DMD` object, another option is to use a data preprocessor from the `pydmd.preprocessing` suite, which will preprocess and postprocess our data for us. We explore these tools below."
      ],
      "metadata": {
        "id": "wrbJ8oqoqTvj"
      }
    },
    {
      "cell_type": "markdown",
      "source": [
        "### **Exercise 2b:**\n",
        "\n",
        "Use the `hankel_preprocessing` tool found in `pydmd.preprocessing` to first apply time-delays to the data, and then apply DMD. [[source]](https://github.com/PyDMD/PyDMD/blob/7f4aa774b718c7ff57f2573b72420291e3bcd3a4/pydmd/preprocessing/hankel.py#L17)\n",
        "\n",
        "To demonstrate how preprocessors work, we provide some starter code in the cell below. Notice how preprocessing tools wrap around PyDMD modules, but the modules still encode the DMD algorithm of choice.\n",
        "\n",
        "- Below, you must choose an appropriate rank $r$ for the DMD fit. Based on the rank of the data after applying time-delays, what should $r$ be?\n",
        "\n",
        "- You must also choose an appropriate number of delays $d$ to use. Based on how many delays were necessary in order to maximize the rank of the data matrix, what should $d$ be? Perhaps there are many correct answers?\n",
        "\n",
        "- Whatever number of delays $d$ that you use, be sure to feed it to the `plot_summary` function as well. The function uses this parameter in order to collapse spatial modes across delays so that the plotted modes make more sense."
      ],
      "metadata": {
        "id": "S2cYqlcqglVj"
      }
    },
    {
      "cell_type": "code",
      "source": [
        "from pydmd.preprocessing import hankel_preprocessing\n",
        "\n",
        "# TODO:\n",
        "dmd = DMD(svd_rank=???)\n",
        "delay_dmd = hankel_preprocessing(dmd, ???)\n",
        "delay_dmd.fit(X.real)\n",
        "plot_summary(delay_dmd, x=x, t=dt, ???)\n",
        "\n",
        "# This plots the reconstruction and the error -- no need to do anything here.\n",
        "plot_data(delay_dmd.reconstructed_data.real, tgrid, xgrid, \"Delay DMD Data Reconstruction\")\n",
        "print(f\"Delay DMD reconstruction error: {compute_error(delay_dmd.reconstructed_data.real, X.real)}%\")"
      ],
      "metadata": {
        "id": "_gay2uggguCo"
      },
      "execution_count": null,
      "outputs": []
    },
    {
      "cell_type": "markdown",
      "source": [
        "## **Bonus exercises:**\n",
        "- Try using `plot_summary` to plot the time-delay DMD results again, but without providing the time-delay parameter. What do you notice about the `modes` attribute of a model that has been fitted with time-delay data?\n",
        "- Notice that in the last `plot_summary` call, we used $\\Delta t$ as our `t` argument as opposed to the time vector like we did in Part 1. This is because the `t` argument of `plot_summary` can be either. Using $\\Delta t$ is just more convenient in the time-delay case since we sacrifice some number of snapshots and hence some number of time points when we use time-delays. With that in mind, try using `plot_summary` with your time-delay DMD model, but while using a time vector instead of a time-step for `t`. How much do you need to shorten the time vector if you use $d$ time-delays?"
      ],
      "metadata": {
        "id": "kWh9qaC2g6UV"
      }
    },
    {
      "cell_type": "code",
      "source": [
        "# Bonus exercise workspace:"
      ],
      "metadata": {
        "id": "i3-0NlBug6o5"
      },
      "execution_count": null,
      "outputs": []
    },
    {
      "cell_type": "markdown",
      "source": [
        "## **Part 3: Advanced PyDMD Applications**\n",
        "\n",
        "We now make our data set even harder to analyze by introducing nontrivial amounts of measurement noise.\n",
        "\n",
        "By the end of this section of the tutorial, users should be able to...\n",
        "\n",
        "- Build and fit complex BOP-DMD models.\n",
        "- Model real data sets that are polluted with noise.\n",
        "- Obtain and visualize UQ metrics for their DMD results.\n",
        "\n",
        "We begin by defining and visualizing the noisy data set that we will be using during this portion of the tutorial."
      ],
      "metadata": {
        "id": "zXT9qU14B8KC"
      }
    },
    {
      "cell_type": "code",
      "source": [
        "# Generate noisy, real-valued data.\n",
        "noise_magnitude = 0.2\n",
        "noise = noise_magnitude * np.random.randn(*X.shape)\n",
        "X_noisy = X.real + noise\n",
        "\n",
        "# Plot the noisy data set.\n",
        "plot_data(X_noisy, tgrid, xgrid, \"Noisy Data\")"
      ],
      "metadata": {
        "id": "nBVxUGqWK3kt"
      },
      "execution_count": null,
      "outputs": []
    },
    {
      "cell_type": "markdown",
      "source": [
        "First, notice that after the introduction of this amount of measurement noise, the results of exact DMD break down completely.\n",
        "\n",
        "A huge contributing factor to this is the eigenvalues that exact DMD learns. The introduction of noise biases the exact DMD eigenvalues and in turn results in time dynamics that decay over time. **We hence need a better DMD algorithm that can withstand the introduction of noise.**"
      ],
      "metadata": {
        "id": "EMx2w-FLzkeG"
      }
    },
    {
      "cell_type": "code",
      "source": [
        "# Build and fit the time-delay DMD model from part 2.\n",
        "delay_dmd = hankel_preprocessing(DMD(svd_rank=4), d=2)\n",
        "delay_dmd.fit(X_noisy)\n",
        "plot_summary(delay_dmd, x=x, t=dt, d=2)\n",
        "\n",
        "# Error results.\n",
        "plot_data(delay_dmd.reconstructed_data.real, tgrid, xgrid, \"DMD Data Reconstruction\")\n",
        "print(f\"DMD reconstruction error: {compute_error(delay_dmd.reconstructed_data, X.real)}%\")"
      ],
      "metadata": {
        "id": "p6BKL7Tjquyq"
      },
      "execution_count": null,
      "outputs": []
    },
    {
      "cell_type": "markdown",
      "source": [
        "In order to deal with this, we fall back on the much more robust [Optimized DMD](https://doi.org/10.1137/M1124176) algorithm.\n",
        "\n",
        "This algorithm is implemented by the `BOPDMD` module and can be utilized like so. Below, we turn verbosity on in order to view progress of the variable projection algorithm. We also provide code for pairing `BOPDMD` modules with time-delay preprocessing for convenience. [[source]](https://github.com/PyDMD/PyDMD/blob/7f4aa774b718c7ff57f2573b72420291e3bcd3a4/pydmd/bopdmd.py#L867)"
      ],
      "metadata": {
        "id": "9Uj04S6Mz8Jo"
      }
    },
    {
      "cell_type": "code",
      "source": [
        "from pydmd import BOPDMD\n",
        "\n",
        "# Build the Optimized DMD model.\n",
        "optdmd = BOPDMD(svd_rank=4, varpro_opts_dict={\"verbose\": True})\n",
        "\n",
        "# Pair Optimized DMD with time-delay.\n",
        "d = 2\n",
        "delay_optdmd = hankel_preprocessing(optdmd, d=d)\n",
        "delay_optdmd.fit(X_noisy, t=t[:-d+1]) # Optimized DMD needs times for fitting\n",
        "plot_summary(delay_optdmd, x=x, t=dt, d=d)\n",
        "\n",
        "# Error results.\n",
        "plot_data(delay_optdmd.reconstructed_data.real, tgrid, xgrid, \"Optimized DMD Data Reconstruction\")\n",
        "print(f\"Optimized DMD reconstruction error: {compute_error(delay_optdmd.reconstructed_data, X.real)}%\")"
      ],
      "metadata": {
        "id": "9ehCcuQ8ZiCc"
      },
      "execution_count": null,
      "outputs": []
    },
    {
      "cell_type": "markdown",
      "source": [
        "Much better! Now let's explore even more features and possibilities with the `BOPDMD` module.\n",
        "\n",
        "First, we introduce bagging, which elevates us from Optimized DMD to Bagging, Optimized DMD [(BOP-DMD)](https://doi.org/10.1098/rsta.2021.0199)."
      ],
      "metadata": {
        "id": "AU2Mj1hv8Jrz"
      }
    },
    {
      "cell_type": "markdown",
      "source": [
        "### **Exerise 3a:**\n",
        "\n",
        "Fit a `BOPDMD` [[source]](https://github.com/PyDMD/PyDMD/blob/7f4aa774b718c7ff57f2573b72420291e3bcd3a4/pydmd/bopdmd.py#L867) model that does the following:\n",
        "- Use 100 trials where each trial uses 90% of the total available data.\n",
        "- Change some variable projection parameters:\n",
        "    - Turn verbosity on to track progress.\n",
        "    - Set the convergence tolerance to 0.1 so that we converge easier."
      ],
      "metadata": {
        "id": "jIDvBKcVapFF"
      }
    },
    {
      "cell_type": "code",
      "source": [
        "# TODO:\n",
        "bopdmd = BOPDMD(\n",
        "    svd_rank=4,\n",
        "    ???\n",
        ")\n",
        "\n",
        "# Preprocessing and plotting code from before -- no need to do anything here.\n",
        "d = 2\n",
        "delay_bopdmd = hankel_preprocessing(bopdmd, d=d)\n",
        "delay_bopdmd.fit(X_noisy, t=t[:-d+1])\n",
        "plot_summary(delay_bopdmd, x=x, t=dt, d=d)\n",
        "plot_data(delay_bopdmd.reconstructed_data.real, tgrid, xgrid, \"BOP-DMD Data Reconstruction\")\n",
        "print(f\"BOP-DMD reconstruction error: {compute_error(delay_bopdmd.reconstructed_data, X.real)}%\")"
      ],
      "metadata": {
        "id": "c8ZzxbhN1kTW"
      },
      "execution_count": null,
      "outputs": []
    },
    {
      "cell_type": "markdown",
      "source": [
        "In addition to the `modes`, `eigs`, and `amplitudes` attributes, `BOPDMD` models that use multiple bagging trials also possess the following:\n",
        "- `modes_std` - mode standard deviation across all trials\n",
        "- `eigenvalues_std` - eigenvalue standard deviation across all trials\n",
        "- `amplitudes_std` - amplitude standard deviation across all trials\n",
        "\n",
        "Hence the `modes`, `eigs`, and `amplitudes` attributes store the average results across all trials."
      ],
      "metadata": {
        "id": "aZNdKopPD-EM"
      }
    },
    {
      "cell_type": "markdown",
      "source": [
        "### **Exerise 3b:**\n",
        "\n",
        "Using the time-delay BOP-DMD model fitted in the previous exercise, plot the modes and eigenvalues alongside their UQ metrics.\n",
        "- To reorient ourselves a bit, print the shape of the `modes` attribute and the `modes_std` attribute of our model. Notice that the two matrices are the same shape, as the `modes_std` attribute encodes the standard deviation across all modes and collocation points. Also notice how the dimension of the modes is $n \\cdot d$ due to time-delays.\n",
        "- Plot the modes alongside the mode standard deviations. Be sure to plot them separately, as the standard deviation will be very small compared to the mean values. You can use the provided `plot_mode_uq` function to do this. Whether you collapse the modes across delays or not is up to you.\n",
        "- Repeat this using the computed eigenvalues. For the standard deviation plotting, you can use the provided `plot_eig_uq` function.\n"
      ],
      "metadata": {
        "id": "Ah-l06_h2NbG"
      }
    },
    {
      "cell_type": "code",
      "source": [
        "# Plotting code -- feel free to use and/or edit!\n",
        "\n",
        "def plot_mode_uq(modes, modes_std, d=None):\n",
        "    \"\"\"\n",
        "    Plot BOP-DMD modes alongside their standard deviations.\n",
        "\n",
        "    modes = (d*n, r) numpy.ndarray of average BOP-DMD modes.\n",
        "    modes_std = (d*n, r) numpy.ndarray of mode standard deviations.\n",
        "    d = number of delays to average across.\n",
        "    \"\"\"\n",
        "    plt.figure(figsize=(12, 4), dpi=200)\n",
        "    for i, (mode, mode_std) in enumerate(zip(modes.real.T, modes_std.T)):\n",
        "        # Collapse the results across time-delays.\n",
        "        if d is not None:\n",
        "            mode = np.average(mode.reshape(d, nx), axis=0)\n",
        "            mode_std = np.average(mode_std.reshape(d, nx), axis=0)\n",
        "\n",
        "        plt.subplot(2, 4, i + 1)\n",
        "        # Plot the average mode.\n",
        "        plt.title(\"Average Mode\")\n",
        "        plt.plot(mode)\n",
        "        # Plot the mode standard deviation.\n",
        "        plt.subplot(2, 4, i + 5)\n",
        "        plt.title(\"Mode Standard Deviation\")\n",
        "        plt.plot(mode_std, c=\"tab:red\")\n",
        "\n",
        "    plt.suptitle(\"DMD Modes\")\n",
        "    plt.tight_layout()\n",
        "    plt.show()\n",
        "\n",
        "def plot_eig_uq(eigs, eigs_std):\n",
        "    \"\"\"\n",
        "    Plot BOP-DMD eigenvalues against true eigenvalues and 2 standard deviations.\n",
        "\n",
        "    Args:\n",
        "        eigs = (r,) numpy.ndarray of average BOP-DMD eigenvalues.\n",
        "        eigs_std = (r,) numpy.ndarray of eigenvalue standard deviations.\n",
        "    \"\"\"\n",
        "    # Define the true DMD eigenvalues.\n",
        "    eigs_true = np.array([2.8j, 2.3j, -2.3j, -2.8j])\n",
        "\n",
        "    fig, ax = plt.subplots(figsize=(6, 2), dpi=200)\n",
        "    for e, std in zip(eigs, eigs_std):\n",
        "        # Plot 2 standard deviations.\n",
        "        circle_1 = plt.Circle((e.imag, e.real), 2 * std, color=\"b\", alpha=0.2)\n",
        "        ax.add_patch(circle_1)\n",
        "        # Plot 1 standard deviation.\n",
        "        circle_2 = plt.Circle((e.imag, e.real), std, color=\"b\", alpha=0.5)\n",
        "        ax.add_patch(circle_2)\n",
        "\n",
        "    # Plot the average eigenvalues.\n",
        "    ax.plot(eigs.imag, eigs.real, \"o\", c=\"b\", label=\"BOP-DMD\")\n",
        "    # Plot the true eigenvalues.\n",
        "    ax.plot(eigs_true.imag, eigs_true.real, \"x\", c=\"k\", label=\"Truth\")\n",
        "    plt.title(\"DMD Eigenvalues\")\n",
        "    plt.xlabel(\"$Im(\\omega)$\")\n",
        "    plt.ylabel(\"$Re(\\omega)$\")\n",
        "    plt.legend()\n",
        "    plt.show()"
      ],
      "metadata": {
        "id": "1hwTPwG6AA_Y"
      },
      "execution_count": null,
      "outputs": []
    },
    {
      "cell_type": "code",
      "source": [
        "# TODO:\n",
        "print(???)\n",
        "print(???)\n",
        "plot_mode_uq(???)\n",
        "\n",
        "print(???)\n",
        "print(???)\n",
        "plot_eig_uq(???)"
      ],
      "metadata": {
        "id": "S13RajSD2lCD"
      },
      "execution_count": null,
      "outputs": []
    },
    {
      "cell_type": "markdown",
      "source": [
        "### **Exerise 3c:**\n",
        "\n",
        "Repeat the entire BOP-DMD analysis from exercises 3a and 3b. That is...\n",
        "\n",
        "- Use the real, noisy data set,\n",
        "- Use time-delay preprocessing,\n",
        "- Use a BOP-DMD model with the parameters from 3a, and\n",
        "- Plot the UQ metrics for the resulting modes and the eigenvalues.\n",
        "\n",
        "Only this time, constrain the eigenvalues to be imaginary **AND** to come in perfect complex conjugate pairs. [[source]](https://github.com/PyDMD/PyDMD/blob/7f4aa774b718c7ff57f2573b72420291e3bcd3a4/pydmd/bopdmd.py#L867)"
      ],
      "metadata": {
        "id": "4BLznUgT2_GP"
      }
    },
    {
      "cell_type": "code",
      "source": [
        "# TODO:"
      ],
      "metadata": {
        "id": "KPxEQzjW2_6m"
      },
      "execution_count": null,
      "outputs": []
    },
    {
      "cell_type": "markdown",
      "source": [
        "## **Bonus exercises:**\n",
        "- Try adjusting the level of added Gaussian noise on the data. How does increasing or decreasing the magnitude of the noise impact the BOP-DMD results, including our UQ metrics?\n",
        "- Try adjusting some parameters of BOP-DMD. For example, what happens if you change the number of trials used or the trial size? Is there a trial size that is too small? How do these parameters impact the BOP-DMD results, as well as our UQ metrics?"
      ],
      "metadata": {
        "id": "boQLTWksI2_z"
      }
    },
    {
      "cell_type": "code",
      "source": [
        "# Bonus exercise workspace:"
      ],
      "metadata": {
        "id": "42X-xVBeLegz"
      },
      "execution_count": null,
      "outputs": []
    },
    {
      "cell_type": "markdown",
      "source": [
        "For more information, see our full set of [tutorials](https://github.com/PyDMD/PyDMD/tree/master/tutorials) and our [arXiv paper](https://doi.org/10.48550/arXiv.2402.07463)."
      ],
      "metadata": {
        "id": "ZeVTDmgEAaS7"
      }
    },
    {
      "cell_type": "code",
      "source": [],
      "metadata": {
        "id": "SnuCUU2xI7fz"
      },
      "execution_count": null,
      "outputs": []
    }
  ]
}