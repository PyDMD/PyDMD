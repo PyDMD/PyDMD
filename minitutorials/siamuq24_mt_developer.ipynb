{
 "cells": [
  {
   "cell_type": "markdown",
   "metadata": {},
   "source": [
    "# **SIAM UQ24 MT5: PyDMD - Dynamic Mode Decomposition with Python**\n",
    "\n",
    "**Abstract:** PyDMD is a Python package designed for Dynamic Mode Decomposition (DMD), a data-driven method used for analyzing and extracting spatiotemporal coherent structures from time-varying datasets. The package implements many extensions to handle noisy data, impose structure on the learned operators, and provide uncertainty estimates. PyDMD has a comprehensive and user-friendly interface, making it a valuable tool for researchers, engineers, and data scientists working in various fields. After this mini tutorial, participants will be able to use all the main functionalities of the package, exploit Bagging-Optimized Dynamic Mode Decomposition (BOP-DMD) for uncertainty quantification, and develop new DMD classes."
   ]
  },
  {
   "cell_type": "markdown",
   "metadata": {},
   "source": [
    "## Part 0: Installing PyDMD\n"
   ]
  },
  {
   "cell_type": "markdown",
   "metadata": {},
   "source": [
    "In the last part of this minitutorial, we will create from scratch a new version of the original DMD, extending the standard `DMD` version. The goal is showing the steps to implement a new variant of DMD inside **PyDMD**, going deeper in the package structure.\n",
    "\n",
    "Such an extension will be totally useless from a scientific perspective. But we did not want to create complex algorithms, we just wanted to show how to extend an already existing **PyDMD** class."
   ]
  },
  {
   "cell_type": "markdown",
   "metadata": {},
   "source": [
    "First of all, we install the right version of **PyDMD**:\n",
    "\n",
    "```\n",
    "pip install git+https://github.com/PyDMD/PyDMD\n",
    "```\n",
    "In this notebook, we already have the specific commit installation cell!"
   ]
  },
  {
   "cell_type": "code",
   "execution_count": null,
   "metadata": {},
   "outputs": [],
   "source": [
    "#!pip install git+https://github.com/PyDMD/PyDMD.git@cbd7c923b2cc58ba1ab116b16295101adc256bbb"
   ]
  },
  {
   "cell_type": "code",
   "execution_count": null,
   "metadata": {},
   "outputs": [],
   "source": [
    "%matplotlib inline\n",
    "import matplotlib.pyplot as plt\n",
    "import numpy as np\n",
    "\n",
    "from pydmd import DMDBase, DMD\n",
    "from pydmd.utils import compute_tlsq\n",
    "from pydmd.snapshots import Snapshots\n",
    "\n",
    "import matplotlib.colors as colors"
   ]
  },
  {
   "cell_type": "markdown",
   "metadata": {},
   "source": [
    "## Part 1: My First DMD variant\n",
    "\n",
    "We are now able to create a new class **inheriting** from `DMDBase`: in this way, we just need to implement the new `fit()` method and all the other components are taken from the basic algorithm.\n",
    "Of course, we can also overload one or more attributes/methods, it depends on the new algorithm we want to implement.\n",
    "\n",
    "In this case, we also overload the constructor (i.e. the `__init__` method) to present a non-trivial case. \n",
    "\n",
    "The new functionality we are going to implement is a simple DMD that transforms (in some way) the input snapshots using a custom function, provided by the user before the construction of the operator.\n",
    "\n",
    "Since the (quite) high number of parameters in the constructor, we suggest explicitly passing all of them instead of using `args` and `kwargs`. It's redundant, but also much more readable!\n",
    "We can call the `DMDBase` constructor thanks to `super` keyword (more info on `super` [here](https://docs.python.org/3.9/library/functions.html?highlight=super#super))."
   ]
  },
  {
   "cell_type": "code",
   "execution_count": null,
   "metadata": {},
   "outputs": [],
   "source": [
    "class MyFancyNameDMD(DMDBase):\n",
    "    \"\"\"\n",
    "    The MyFancyNameDMD class.\n",
    "    A dummy DMD variant which, useless outside this tutorial.\n",
    "    Make sure to write an exhaustive docstring if you want to\n",
    "    distribute your code, or use it again in some years.\n",
    "    \"\"\"\n",
    "\n",
    "    def __init__(self, func, *args, **kwargs):\n",
    "        super().__init__(*args, **kwargs)\n",
    "        self.__func = func"
   ]
  },
  {
   "cell_type": "markdown",
   "metadata": {},
   "source": [
    "We just specify that the last line of constructor saves the passed function in the object, giving us the possibility to recall it later.\n",
    "\n",
    "We are now ready to implement the `fit` method. Define the custom mapping as $f: \\mathbb R^n \\to \\mathbb R^n$ acting on the snapshots $\\{\\mathbf x_i \\in \\mathbb R^n\\}_{i=1}^m$. Then we just need to pre-process the snapshots in `fit()` and build the DMD operator.\n",
    "\n",
    "By recalling the already implemented methods, we just need few lines of code to complete the new version. Of course, in case of doubts, the [documentation](https://mathlab.github.io/PyDMD/index.html) is the best starting point to better understand classes and methods."
   ]
  },
  {
   "cell_type": "code",
   "execution_count": null,
   "metadata": {},
   "outputs": [],
   "source": [
    "class MyFancyNameDMD(DMDBase):\n",
    "    \"\"\"\n",
    "    The MyFancyNameDMD class.\n",
    "    A dummy DMD variant which, useless outside this tutorial.\n",
    "    Make sure to write an exhaustive docstring if you want to\n",
    "    distribute your code, or use it again in some years.\n",
    "    \"\"\"\n",
    "\n",
    "    def __init__(self, func, **kwargs):\n",
    "        super().__init__(**kwargs)\n",
    "        self.__func = func\n",
    "\n",
    "    def fit(self, X):\n",
    "        \"\"\"\n",
    "        Compute the DMD to the input data.\n",
    "\n",
    "        :param X: the input snapshots.\n",
    "        :type X: numpy.ndarray or iterable\n",
    "        \"\"\"\n",
    "\n",
    "        # adjust the shape of the snapshots\n",
    "        input_snapshots = Snapshots(X).snapshots\n",
    "        \n",
    "        #####################################################\n",
    "        # apply the mapping\n",
    "        #####################################################\n",
    "        mapped_snapshots = np.apply_along_axis(self.__func, 0, input_snapshots)\n",
    "        \n",
    "        # store the snapshots\n",
    "        self._snapshots_holder = Snapshots(mapped_snapshots)\n",
    "        \n",
    "        # build the matrices X and Y\n",
    "        n_samples = self.snapshots.shape[-1]\n",
    "        X = self.snapshots[:, :-1]\n",
    "        Y = self.snapshots[:, 1:]\n",
    "        X, Y = compute_tlsq(X, Y, self._tlsq_rank)\n",
    "\n",
    "        # compute the DMD operator\n",
    "        self._svd_modes, _, _ = self.operator.compute_operator(X, Y)\n",
    "\n",
    "        # Default timesteps\n",
    "        self._set_initial_time_dictionary(\n",
    "            {\"t0\": 0, \"tend\": n_samples - 1, \"dt\": 1}\n",
    "        )\n",
    "\n",
    "        # compute DMD amplitudes\n",
    "        self._b = self._compute_amplitudes()\n",
    "\n",
    "        return self"
   ]
  },
  {
   "cell_type": "markdown",
   "metadata": {},
   "source": [
    "And, we're done!\n",
    "\n",
    "Our new class is implemented, inheriting all the methods to the base class.\n",
    "We have nothing to do but try it on a simple example. We build a simple dataset and we apply our new algorithm to it. We create the input data by summing two different functions and a costant value ($10^6$):\n",
    "$$\n",
    "\\begin{align*}\n",
    "    f_1(x,t) &= \\text{sech}(x+3)\\exp(i2.3t),\\\\\n",
    "    f_2(x,t) &= 2\\text{sech}(x)\\tanh(x)\\exp(i2.8t),\n",
    "\\end{align*}\n",
    "$$\n",
    "and finally $f(x,t) = f_1(x,t) + f_2(x,t) + 10^6$."
   ]
  },
  {
   "cell_type": "code",
   "execution_count": null,
   "metadata": {},
   "outputs": [],
   "source": [
    "def f1(x, t):\n",
    "    return 1.0 / np.cosh(x + 3) * np.exp(2.3j * t)\n",
    "\n",
    "\n",
    "def f2(x, t):\n",
    "    return (2.0 / np.cosh(x) * np.tanh(x) * np.exp(2.8j * t))\n",
    "\n",
    "\n",
    "x = np.linspace(-5, 5, 65)\n",
    "t = np.linspace(0, 4 * np.pi, 129)\n",
    "\n",
    "xgrid, tgrid = np.meshgrid(x, t)\n",
    "\n",
    "X1 = f1(xgrid, tgrid)\n",
    "X2 = f2(xgrid, tgrid)\n",
    "X = X1 + X2 + 1e6"
   ]
  },
  {
   "cell_type": "markdown",
   "metadata": {},
   "source": [
    "The dataset is ready, the only thing we need to do is instantiate our new class and call the `fit` method. We define the function `subtract` to be used as custom mapping: it just subtracts a fixed value to the snapshots matrix.\n",
    "\n",
    "For a comparison, we also instantiate a standard DMD and call its `fit` method."
   ]
  },
  {
   "cell_type": "code",
   "execution_count": null,
   "metadata": {},
   "outputs": [],
   "source": [
    "def subtract(snapshot):\n",
    "    return snapshot - 1e6\n",
    "\n",
    "\n",
    "my_dmd = MyFancyNameDMD(func=subtract, svd_rank=2)\n",
    "dmd = DMD(svd_rank=2)\n",
    "\n",
    "[dmd_.fit(X.T) for dmd_ in [my_dmd, dmd]]"
   ]
  },
  {
   "cell_type": "markdown",
   "metadata": {},
   "source": [
    "We have performed both the algorithms, we can now look at the reconstructed system using the `reconstructed_data` attribute. We note here that, as the other methods and attributes, `reconstructed_data` is inherited from `DMDBase`, giving us the possibility to call it without having implemented explicitly.\n",
    "We prepare an helper function to plot the original data and the predicted results (for any passed DMD)!"
   ]
  },
  {
   "cell_type": "code",
   "execution_count": null,
   "metadata": {},
   "outputs": [],
   "source": [
    "def compare_dmds(dmds, ground_truth):\n",
    "\n",
    "    fig = plt.figure(layout=None, figsize=(18, 6*len(dmds)))\n",
    "    gs = fig.add_gridspec(nrows=len(dmds)+2, ncols=2, left=0.05, right=0.95,\n",
    "                      hspace=0.4, wspace=0.05)\n",
    "    ax0 = fig.add_subplot(gs[:2, :])\n",
    "    cb = ax0.pcolormesh(ground_truth.real.T)\n",
    "    plt.colorbar(cb)\n",
    "\n",
    "    for i, dmd_ in enumerate(dmds):\n",
    "        ax1 = fig.add_subplot(gs[i+2, 0])\n",
    "        ax2 = fig.add_subplot(gs[i+2, 1])\n",
    "        cb = ax1.pcolormesh(dmd_.reconstructed_data.real)\n",
    "        plt.title(f\"{dmd_.__class__.__name__} Reconstruction\")\n",
    "        plt.xlabel(\"t\")\n",
    "        plt.ylabel(\"x\")\n",
    "        plt.colorbar(cb)\n",
    "        \n",
    "        Z = np.abs(dmd_.reconstructed_data.real - ground_truth.T)\n",
    "        pcm = ax2.pcolormesh(\n",
    "            Z,\n",
    "            norm=colors.LogNorm(vmin=max(1.0e-16, Z.min()), vmax=max(1.0e-15, Z.max())),\n",
    "        )\n",
    "        ax2.set_title(f\"{dmd_.__class__.__name__} Error\")\n",
    "        ax1.set_title(f\"{dmd_.__class__.__name__} Reconstruction\")\n",
    "\n",
    "        plt.xlabel(\"t\")\n",
    "        plt.ylabel(\"x\")\n",
    "        plt.colorbar(pcm, extend=\"max\")\n",
    "    \n",
    "    plt.show()"
   ]
  },
  {
   "cell_type": "code",
   "execution_count": null,
   "metadata": {},
   "outputs": [],
   "source": [
    "compare_dmds([dmd, my_dmd], X)"
   ]
  },
  {
   "cell_type": "markdown",
   "metadata": {},
   "source": [
    "Reconstruction is similar to the original data with the new variant, but the scales are completely different!\n",
    "Contrarly, the standard DMD is able to reconstruct the original data with the same scale, but the original oscillations are not preserved.\n",
    "\n",
    "What's going on?\n",
    "We need to investigate a bit more!"
   ]
  },
  {
   "cell_type": "markdown",
   "metadata": {},
   "source": [
    "#### Exercise 3a\n",
    "\n",
    "Plot the (1D) modes for the new class, and compare them to the standard DMD."
   ]
  },
  {
   "cell_type": "code",
   "execution_count": null,
   "metadata": {},
   "outputs": [],
   "source": []
  },
  {
   "cell_type": "markdown",
   "metadata": {},
   "source": [
    "#### Exercise 3b\n",
    "\n",
    "Plot the dynamics for the new class, and compare them to the standard ones."
   ]
  },
  {
   "cell_type": "code",
   "execution_count": null,
   "metadata": {},
   "outputs": [],
   "source": []
  },
  {
   "cell_type": "markdown",
   "metadata": {},
   "source": [
    "#### Exercise 3c\n",
    "\n",
    "Plot the eigenvalues for the new class, and compare them to the standard ones."
   ]
  },
  {
   "cell_type": "code",
   "execution_count": null,
   "metadata": {},
   "outputs": [],
   "source": []
  },
  {
   "cell_type": "markdown",
   "metadata": {},
   "source": [
    "## Part 2: Another, more complete, class\n",
    "\n",
    "Ok, we have created a new class that looks better than the original one to catch the temporal trend with such the current dataset.\n",
    "But we are not satisfied yet: we want to create a new class that is able to catch the temporal trend and preserve the correct scale of the original data.\n",
    "\n",
    "#### Exercise 3d\n",
    "Create a new DMD variants that takes two input (user-defined) functions:\n",
    "- `transformation_func`: a function that transform the input snapshots;\n",
    "- `inverse_transformation_func`: a function that transform the reconstructed data back to the original space.\n",
    "\n",
    "Then, implement the `fit` method accordingly."
   ]
  },
  {
   "cell_type": "code",
   "execution_count": null,
   "metadata": {},
   "outputs": [],
   "source": [
    "class MyFancyName2DMD(MyFancyNameDMD):\n",
    "\n",
    "    def __init__(self, inverse_transformation_func, transformation_func, *args, **kwargs):\n",
    "        super().__init__(transformation_func, *args, **kwargs)\n",
    "        self.__inverse_transformation_func = inverse_transformation_func\n",
    "\n",
    "    # COMPLETE HERE"
   ]
  },
  {
   "cell_type": "markdown",
   "metadata": {},
   "source": [
    "Great! Now it's time to test our new class. We will use the same dataset as before, and we will compare the results with the previous classes.\n",
    "For the `MyFancyName2DMD` class, we will use the `subtract` function as `transformation_func` and `add` as `inverse_transformation_func`."
   ]
  },
  {
   "cell_type": "code",
   "execution_count": null,
   "metadata": {},
   "outputs": [],
   "source": [
    "def add(snapshots):\n",
    "    return snapshots + 1e6\n",
    "    \n",
    "my2nd_dmd = MyFancyName2DMD(inverse_transformation_func=add, transformation_func=subtract, svd_rank=2)\n",
    "my2nd_dmd.fit(X.T)"
   ]
  },
  {
   "cell_type": "code",
   "execution_count": null,
   "metadata": {},
   "outputs": [],
   "source": [
    "compare_dmds([my2nd_dmd, my_dmd, dmd], X)"
   ]
  },
  {
   "cell_type": "markdown",
   "metadata": {},
   "source": [
    "Amazing! Now the reconstruction is completely better that standard `DMD`. The scales are preserved and the oscillations are reconstructed in the right way.\n",
    "\n",
    "#### Exercise 3e\n",
    "What happen when you swap the functions we are passing?"
   ]
  },
  {
   "cell_type": "code",
   "execution_count": null,
   "metadata": {},
   "outputs": [],
   "source": []
  },
  {
   "cell_type": "markdown",
   "metadata": {},
   "source": [
    "Umh, we have a problem here. The reconstruction is not working as expected.\n",
    "What is happening? We are now adding to the input snapshots the quantity $10^6$, applying DMD to these snapshots, and then subtracting $10^6$ to the reconstructed data. Instead of moving the original data closer to zero (like in previous case), we are making the data bigger, resulting in a bad conditioned problem.\n",
    "\n",
    "With DMD (but also almost all the numerical algorithms), conditioning is a crucial aspect. We need to be careful when we are working with big numbers, and we need to be sure that the data we are working with is well conditioned. Let's try to see what is happening just making the date centered to zero."
   ]
  },
  {
   "cell_type": "code",
   "execution_count": null,
   "metadata": {},
   "outputs": [],
   "source": [
    "Xscaled = X - X.mean()\n",
    "\n",
    "[dmd_.fit(Xscaled.T) for dmd_ in [my2nd_dmd, my_dmd, dmd]]\n",
    "compare_dmds([my2nd_dmd, my_dmd, dmd], Xscaled)"
   ]
  },
  {
   "cell_type": "markdown",
   "metadata": {},
   "source": [
    "Oh great! We can see a complete different scenario now. `DMD` is able to catch the correct behavior of the original data, and the new class we implemented is instead showing a bad reconstruction. The passed functions for pre- and post-processing the data are not pertinent to the current dataset: we can adapt such functions depending on the problem at hand, but can we obtain something more general?"
   ]
  },
  {
   "cell_type": "markdown",
   "metadata": {},
   "source": [
    "#### Exercise 3f\n",
    "Create a new version for making \"zero_mean\" preprocessing on the input data."
   ]
  },
  {
   "cell_type": "code",
   "execution_count": null,
   "metadata": {},
   "outputs": [],
   "source": []
  },
  {
   "cell_type": "code",
   "execution_count": null,
   "metadata": {},
   "outputs": [],
   "source": [
    "compare_dmds([my2nd_dmd, my_dmd, center_dmd], X)"
   ]
  },
  {
   "cell_type": "markdown",
   "metadata": {},
   "source": [
    "So remember, also center (and maybe scale) your data to reduce the numeric errors and instability! Even if the data are simple.\n",
    "\n",
    "### Conclusion\n",
    "We have shown a minimal extension of the basic `DMD` approach, hopefully demonstrating how easy can be to use **PyDMD** for further developments. Thanks to the object-oriented paradigm, it is possible to write (and test) a few lines of code, recycling all the components already implemented in the package! Be careful, always choose the *best* starting point.\n",
    "\n",
    "To see an example where **PyDMD** is incorporated in some external frameworks, the page at [https://github.com/PyDMD/glappo/blob/master/notebooks/dldmd.ipynb]() introduces an application where **PyDMD** and **PyTorch** have been coupled to perform a nonlinear compression of the input data, increasing final accuracy!"
   ]
  }
 ],
 "metadata": {
  "kernelspec": {
   "display_name": "Python 3 (ipykernel)",
   "language": "python",
   "name": "python3"
  },
  "language_info": {
   "codemirror_mode": {
    "name": "ipython",
    "version": 3
   },
   "file_extension": ".py",
   "mimetype": "text/x-python",
   "name": "python",
   "nbconvert_exporter": "python",
   "pygments_lexer": "ipython3",
   "version": "3.11.4"
  }
 },
 "nbformat": 4,
 "nbformat_minor": 4
}
