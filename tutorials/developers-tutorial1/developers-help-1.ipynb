{
 "cells": [
  {
   "cell_type": "markdown",
   "metadata": {},
   "source": [
    "# PyDMD"
   ]
  },
  {
   "cell_type": "markdown",
   "metadata": {},
   "source": [
    "## Developers Tutorial 1: Extending PyDMD"
   ]
  },
  {
   "cell_type": "markdown",
   "metadata": {},
   "source": [
    "Contrary to other **PyDMD** tutorials, this notebook illustrates the general structure of the basic classes, aiming to help developers to extend the package functionality in a smooth way.\n",
    "\n",
    "In this tutorial we will indeed create from scratch a new version of the original DMD; we specify that of course such extension will be totally useless from a scientific perspective, the only purpose is showing the suggested steps to implement any variants inside **PyDMD**."
   ]
  },
  {
   "cell_type": "markdown",
   "metadata": {},
   "source": [
    "The necessary bricks for building the new DMD version are:\n",
    "\n",
    "- [`DMDBase`](https://mathlab.github.io/PyDMD/dmdbase.html), the actual backbone of all the different implemented versions;\n",
    "- `DMDTimeDict`, the class that manages the time window;\n",
    "- `DMDOperator`, the class that manages the so-called DMD operator;\n",
    "\n",
    "We start the new module by importing all these classes and the usual math environment (`matplotlib`+`scipy`+`numpy`)."
   ]
  },
  {
   "cell_type": "code",
   "execution_count": 1,
   "metadata": {},
   "outputs": [],
   "source": [
    "%matplotlib inline\n",
    "import matplotlib.pyplot as plt\n",
    "import numpy as np\n",
    "import scipy\n",
    "\n",
    "from pydmd import DMDBase\n",
    "from pydmd.dmdoperator import DMDOperator\n",
    "from pydmd.dmdbase import DMDTimeDict\n",
    "from pydmd.utils import compute_tlsq"
   ]
  },
  {
   "cell_type": "markdown",
   "metadata": {},
   "source": [
    "We are now able to create a new class inheriting the `DMDBase` one: in this way we have just to implement the new `fit` method. We can also overload one or more attributes/methods, depending by the algorithm of the new version.\n",
    "\n",
    "In this case, we also overload the constructor (i.e. the `__init__` method) to present a very realistic case. The new functionality we are going to implement is basically a simple DMD where the input snapshots are evaluated by a custom function, passed by the user, before of the construction of the operator.\n",
    "\n",
    "Since the (quite) high number of parameters in the constructor, we suggest to pass explicitly all of them instead of using `args` and `kwargs`. It's redundant, but also much more readable! We can call the `DMDBase` constructor thanks to `super` keyword ([here](https://docs.python.org/3.9/library/functions.html?highlight=super#super) there are more information)."
   ]
  },
  {
   "cell_type": "code",
   "execution_count": 2,
   "metadata": {},
   "outputs": [],
   "source": [
    "class MyFancyNameDMD(DMDBase):\n",
    "    \"\"\"\n",
    "    The MyFancyNameDMD class.\n",
    "    \n",
    "    It is just a dummy version for this tutorials. But ensure in production to put an ehxaustive docstring.\n",
    "    \"\"\"\n",
    "    def __init__(\n",
    "        self,\n",
    "        svd_rank=0,\n",
    "        tlsq_rank=0,\n",
    "        exact=False,\n",
    "        opt=False,\n",
    "        rescale_mode=None,\n",
    "        forward_backward=False,\n",
    "        sorted_eigs=False,\n",
    "        func=None\n",
    "    ):\n",
    "        super().__init__(svd_rank=svd_rank, tlsq_rank=tlsq_rank, exact=exact,\n",
    "            opt=opt, rescale_mode=rescale_mode, forward_backward=forward_backward,\n",
    "            sorted_eigs=sorted_eigs)\n",
    "        self.__func = func"
   ]
  },
  {
   "cell_type": "markdown",
   "metadata": {},
   "source": [
    "We just specify that the last line of constructor saves the passed function in the object, giving us the possibility to recall it later.\n",
    "\n",
    "We are now ready to implement the `fit` method. Defining the passed function as $f: \\mathbb R^n \\to \\mathbb R^n$ acting on the snapshots $\\{\\mathbf x_i \\in \\mathbb R^n\\}_{i=1}^m$, we can write our dummy DMD simply by pre-processing the snapshots and then building the operator."
   ]
  },
  {
   "cell_type": "code",
   "execution_count": 3,
   "metadata": {},
   "outputs": [],
   "source": [
    "    def fit(self, X):\n",
    "        \"\"\"\n",
    "        Compute the Dynamic Modes Decomposition to the input data.\n",
    "        \n",
    "        :param X: the input snapshots.\n",
    "        :type X: numpy.ndarray or iterable\n",
    "        \"\"\"\n",
    "        self._snapshots, self._snapshots_shape = self._col_major_2darray(X)\n",
    "\n",
    "        for i_snap, snap in enumerate(self._snapshots.T):\n",
    "            self._snapshots[:, i_snap] = self.__func(snap)\n",
    "\n",
    "        n_samples = self._snapshots.shape[1]\n",
    "        X = self._snapshots[:, :-1]\n",
    "        Y = self._snapshots[:, 1:]\n",
    "        X, Y = compute_tlsq(X, Y, self.tlsq_rank)\n",
    "\n",
    "        self._svd_modes, _, _ = self.operator.compute_operator(X,Y)\n",
    "        \n",
    "        # Default timesteps\n",
    "        self.original_time = DMDTimeDict({'t0': 0, 'tend': n_samples - 1, 'dt': 1})\n",
    "        self.dmd_time = DMDTimeDict({'t0': 0, 'tend': n_samples - 1, 'dt': 1})\n",
    "\n",
    "        self._b = self._compute_amplitudes()\n",
    "\n",
    "        return self  "
   ]
  },
  {
   "cell_type": "markdown",
   "metadata": {},
   "source": [
    "By recalling the already implemented methods, we just need few lines of code to complete the new version. Of course, in case of doubts, the [documentation](https://mathlab.github.io/PyDMD/index.html) is the best starting point to better understand classes and methods.\n",
    "\n",
    "We merge the two cells above in the next one in order to have the entire class implemented."
   ]
  },
  {
   "cell_type": "code",
   "execution_count": 4,
   "metadata": {},
   "outputs": [],
   "source": [
    "class MyFancyNameDMD(DMDBase):\n",
    "    \"\"\"\n",
    "    The MyFancyNameDMD class.\n",
    "    \n",
    "    It is just a dummy version for this tutorials. But ensure in production to put an ehxaustive docstring.\n",
    "    \"\"\"\n",
    "    def __init__(\n",
    "        self,\n",
    "        svd_rank=0,\n",
    "        tlsq_rank=0,\n",
    "        exact=False,\n",
    "        opt=False,\n",
    "        rescale_mode=None,\n",
    "        forward_backward=False,\n",
    "        sorted_eigs=False,\n",
    "        func=None\n",
    "    ):\n",
    "        super().__init__(svd_rank=svd_rank, tlsq_rank=tlsq_rank, exact=exact,\n",
    "            opt=opt, rescale_mode=rescale_mode, forward_backward=forward_backward,\n",
    "            sorted_eigs=sorted_eigs)\n",
    "        self.__func = func\n",
    "        \n",
    "    def fit(self, X):\n",
    "        \"\"\"\n",
    "        Compute the Dynamic Modes Decomposition to the input data.\n",
    "        \n",
    "        :param X: the input snapshots.\n",
    "        :type X: numpy.ndarray or iterable\n",
    "        \"\"\"\n",
    "        self._snapshots, self._snapshots_shape = self._col_major_2darray(X)\n",
    "\n",
    "        for i_snap, snap in enumerate(self._snapshots.T):\n",
    "            self._snapshots[:, i_snap] = self.__func(snap)\n",
    "\n",
    "        n_samples = self._snapshots.shape[1]\n",
    "        X = self._snapshots[:, :-1]\n",
    "        Y = self._snapshots[:, 1:]\n",
    "        X, Y = compute_tlsq(X, Y, self.tlsq_rank)\n",
    "\n",
    "        self._svd_modes, _, _ = self.operator.compute_operator(X,Y)\n",
    "        \n",
    "        # Default timesteps\n",
    "        self.original_time = DMDTimeDict({'t0': 0, 'tend': n_samples - 1, 'dt': 1})\n",
    "        self.dmd_time = DMDTimeDict({'t0': 0, 'tend': n_samples - 1, 'dt': 1})\n",
    "\n",
    "        self._b = self._compute_amplitudes()\n",
    "\n",
    "        return self  "
   ]
  },
  {
   "cell_type": "markdown",
   "metadata": {},
   "source": [
    "And, we're done!\n",
    "\n",
    "Our new class is implemented, inheriting all the methods to the base class. We have nothing to do but try it on a simple example. First of all, we instantiate a new object, passing as function a simple normalizer."
   ]
  },
  {
   "cell_type": "code",
   "execution_count": 5,
   "metadata": {},
   "outputs": [],
   "source": [
    "def myfunc(snapshot):\n",
    "    return snapshot / np.linalg.norm(snapshot)\n",
    "\n",
    "my_dmd = MyFancyNameDMD(func=myfunc)"
   ]
  },
  {
   "cell_type": "markdown",
   "metadata": {},
   "source": [
    "We recover the dataset from [tutorial 1](https://mathlab.github.io/PyDMD/tutorial1dmd.html)."
   ]
  },
  {
   "cell_type": "code",
   "execution_count": 6,
   "metadata": {},
   "outputs": [],
   "source": [
    "def f1(x,t): \n",
    "    return 1./np.cosh(x+3)*np.exp(2.3j*t)\n",
    "\n",
    "def f2(x,t):\n",
    "    return 2./np.cosh(x)*np.tanh(x)*np.exp(2.8j*t)\n",
    "\n",
    "x = np.linspace(-5, 5, 65)\n",
    "t = np.linspace(0, 4*np.pi, 129)\n",
    "\n",
    "xgrid, tgrid = np.meshgrid(x, t)\n",
    "\n",
    "X1 = f1(xgrid, tgrid)\n",
    "X2 = f2(xgrid, tgrid)\n",
    "X = X1 + X2"
   ]
  },
  {
   "cell_type": "markdown",
   "metadata": {},
   "source": [
    "The `fit` method we have implemented is now called to perform our algorithm to the input data."
   ]
  },
  {
   "cell_type": "code",
   "execution_count": 7,
   "metadata": {},
   "outputs": [
    {
     "name": "stderr",
     "output_type": "stream",
     "text": [
      "/u/n/ndemo/.local/lib/python3.7/site-packages/pydmd-0.3.3-py3.7.egg/pydmd/dmdbase.py:351: UserWarning: Input data matrix X has condition number 2.568344092956508e+18. Consider preprocessing data, passing in augmented data matrix, or regularization methods.\n",
      "  cond_number\n"
     ]
    },
    {
     "data": {
      "text/plain": [
       "<__main__.MyFancyNameDMD at 0x7f26a2338b38>"
      ]
     },
     "execution_count": 7,
     "metadata": {},
     "output_type": "execute_result"
    }
   ],
   "source": [
    "my_dmd.fit(X.T.copy())"
   ]
  },
  {
   "cell_type": "markdown",
   "metadata": {},
   "source": [
    "To check that everything works as expected we compare the results obtained with the new version with respect to the original standard approach. We import the `DMD` class and fit over the same data."
   ]
  },
  {
   "cell_type": "code",
   "execution_count": 8,
   "metadata": {},
   "outputs": [
    {
     "data": {
      "text/plain": [
       "<pydmd.dmd.DMD at 0x7f26b8d64ac8>"
      ]
     },
     "execution_count": 8,
     "metadata": {},
     "output_type": "execute_result"
    }
   ],
   "source": [
    "from pydmd import DMD\n",
    "dmd = DMD()\n",
    "dmd.fit(X.T.copy())"
   ]
  },
  {
   "cell_type": "markdown",
   "metadata": {},
   "source": [
    "We have performed both the algorithms, we can now look at the reconstructed system using the `reconstructed_data` attribute. We note here that, as the other methods and attributes, `reconstructed_data` is inherited from `DMDBase`, giving us the possibility to call it without having implemented explicitly."
   ]
  },
  {
   "cell_type": "code",
   "execution_count": 9,
   "metadata": {},
   "outputs": [
    {
     "data": {
      "image/png": "[encoded data removed]",
      "text/plain": [
       "<Figure size 1296x432 with 4 Axes>"
      ]
     },
     "metadata": {
      "needs_background": "light"
     },
     "output_type": "display_data"
    }
   ],
   "source": [
    "plt.figure(figsize=(18, 6))\n",
    "\n",
    "plt.subplot(1, 2, 1)\n",
    "plt.pcolor(my_dmd.reconstructed_data.real)\n",
    "plt.title('MyFancyNameDMD')\n",
    "plt.colorbar()\n",
    "\n",
    "plt.subplot(1, 2, 2)\n",
    "plt.title('DMD')\n",
    "plt.pcolor(dmd.reconstructed_data.real)\n",
    "plt.colorbar()\n",
    "\n",
    "plt.show()"
   ]
  },
  {
   "cell_type": "markdown",
   "metadata": {},
   "source": [
    "Reconstruction looks fine! We are able to note that, since the normalization of the snapshots, the two approaches returns similar results, just a bit rescaled, that is what we expected by preprocessing in this way the input data.\n",
    "\n",
    "But what about if we want to rescale back the reconstruction (or the modes) in the new version?\n",
    "Simple, we have just to overload the `reconstructed_data` or `modes` attributes. \n",
    "\n",
    "This is the basic guide to implement a new version of DMD. For more complex changes to the algorithm, we recommend to carefully read the documentation of the package, and maybe reporting in the [Github issues page](https://github.com/mathLab/PyDMD/issues) the extension you are going to implement."
   ]
  }
 ],
 "metadata": {
  "kernelspec": {
   "display_name": "Python 3",
   "language": "python",
   "name": "python3"
  },
  "language_info": {
   "codemirror_mode": {
    "name": "ipython",
    "version": 3
   },
   "file_extension": ".py",
   "mimetype": "text/x-python",
   "name": "python",
   "nbconvert_exporter": "python",
   "pygments_lexer": "ipython3",
   "version": "3.6.8"
  }
 },
 "nbformat": 4,
 "nbformat_minor": 2
}
